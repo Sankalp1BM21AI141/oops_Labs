{
  "nbformat": 4,
  "nbformat_minor": 0,
  "metadata": {
    "colab": {
      "provenance": [],
      "authorship_tag": "ABX9TyPzR/ME7Xvb7seoLgwdw4cS",
      "include_colab_link": true
    },
    "kernelspec": {
      "name": "python3",
      "display_name": "Python 3"
    },
    "language_info": {
      "name": "python"
    }
  },
  "cells": [
    {
      "cell_type": "markdown",
      "metadata": {
        "id": "view-in-github",
        "colab_type": "text"
      },
      "source": [
        "<a href=\"https://colab.research.google.com/github/Sankalp1BM21AI141/oops_classes/blob/main/oops_Classes_all_programs_.ipynb\" target=\"_parent\"><img src=\"https://colab.research.google.com/assets/colab-badge.svg\" alt=\"Open In Colab\"/></a>"
      ]
    },
    {
      "cell_type": "code",
      "execution_count": null,
      "metadata": {
        "colab": {
          "base_uri": "https://localhost:8080/"
        },
        "id": "ugfZPqIT7kKB",
        "outputId": "6a77a5f6-8c32-4b2c-cee2-1bf4d27ec49e"
      },
      "outputs": [
        {
          "output_type": "stream",
          "name": "stdout",
          "text": [
            "The details are:\n",
            "XYZ\n",
            "21\n",
            "6500000\n"
          ]
        }
      ],
      "source": [
        "class Employee:\n",
        "  def __init__(self,name,age,salary):\n",
        "    self.name=name\n",
        "    self.age=age\n",
        "    self.salary=salary\n",
        "o1=Employee('XYZ',21,6500000)\n",
        "print(\"The details are:\")\n",
        "print(o1.name)\n",
        "print(o1.age)\n",
        "print(o1.salary)"
      ]
    },
    {
      "cell_type": "code",
      "source": [
        "class Student:\n",
        "  def __init__(self) :\n",
        "    self.name='John'\n",
        "    self.age='65'\n",
        "    self.grade='A'\n",
        "o1=Student()\n",
        "print(o1.name,o1.age,o1.grade)\n",
        "\n"
      ],
      "metadata": {
        "colab": {
          "base_uri": "https://localhost:8080/"
        },
        "id": "oQ3wy9wH9Bu1",
        "outputId": "5f80c682-ec06-4700-da53-9d90669ce3ad"
      },
      "execution_count": null,
      "outputs": [
        {
          "output_type": "stream",
          "name": "stdout",
          "text": [
            "John 65 A\n"
          ]
        }
      ]
    },
    {
      "cell_type": "code",
      "source": [
        "class Rectangle:\n",
        "  def __init__(self,len,bre):\n",
        "    self.len=len\n",
        "    self.bre=bre\n",
        "  def area(self):\n",
        "    self.area=(self.len*self.bre)\n",
        "    return self.area\n",
        "a1=Rectangle(10,20)\n",
        "print(\"area\",a1.area())\n"
      ],
      "metadata": {
        "colab": {
          "base_uri": "https://localhost:8080/"
        },
        "id": "l4vIbgxVAHPb",
        "outputId": "e7695d0e-b3bd-4feb-db7b-58c1cddfa327"
      },
      "execution_count": null,
      "outputs": [
        {
          "output_type": "stream",
          "name": "stdout",
          "text": [
            "area 200\n"
          ]
        }
      ]
    },
    {
      "cell_type": "code",
      "source": [
        "class Birthdayboy:\n",
        "  def __init__(self,name,age):\n",
        "    self.name=name\n",
        "    self.age=age\n",
        "  def birthday(self):\n",
        "    self.age+=1\n",
        "    print(f\"HB,{self.name}! You are now{self.age} yeras old\")\n",
        "person=Birthdayboy(name='John',age=25)\n",
        "print(f\"{person.name} is {person.age} years old\")\n",
        "person.birthday()\n",
        "print(f\"after the birthday,{person.name} is {person.age} years\")"
      ],
      "metadata": {
        "colab": {
          "base_uri": "https://localhost:8080/"
        },
        "id": "K-ZK4As3COvL",
        "outputId": "54bec0d9-c732-404f-b522-3a07392ee93c"
      },
      "execution_count": null,
      "outputs": [
        {
          "output_type": "stream",
          "name": "stdout",
          "text": [
            "John is 25 years old\n",
            "HB,John! You are now26 yeras old\n",
            "after the birthday,John is 26 years\n"
          ]
        }
      ]
    },
    {
      "cell_type": "code",
      "source": [
        "class Songs:\n",
        "  def __init__(self,lyrics):\n",
        "    self.lyrics=lyrics\n",
        "  def sing_me_song(self):\n",
        "    for i in self.lyrics:\n",
        "      print(i)\n",
        "happy_bday=Songs([\"May god bless you\",\"have a sunshine on u\",\"Happy birthday to u!\"])\n",
        "happy_bday.sing_me_song()"
      ],
      "metadata": {
        "colab": {
          "base_uri": "https://localhost:8080/"
        },
        "id": "hPLPAS2HG7-h",
        "outputId": "86e14d3e-8454-4a89-9c23-8195fd06b80d"
      },
      "execution_count": null,
      "outputs": [
        {
          "output_type": "stream",
          "name": "stdout",
          "text": [
            "May god bless you\n",
            "have a sunshine on u\n",
            "Happy birthday to u!\n"
          ]
        }
      ]
    },
    {
      "cell_type": "markdown",
      "source": [
        "Lab 3"
      ],
      "metadata": {
        "id": "6B2sPYyLC8Qq"
      }
    },
    {
      "cell_type": "code",
      "source": [
        "class Book:\n",
        "  def __init__(self,title, author, genre,pub_year):\n",
        "    self.title=title\n",
        "    self.author=author\n",
        "    self.genre=genre\n",
        "    self.pub_year=pub_year\n",
        "  def display_info(self):\n",
        "    print(self.title)\n",
        "    print(self.author)\n",
        "    print(self.genre)\n",
        "    print(self.pub_year)\n",
        "print(\"details of 1st book:\")\n",
        "o1=Book('xyz','abc','qur','2012')\n",
        "o1.display_info()\n",
        "print(\"details of 2nd book:\")\n",
        "o2=Book('qwe','rty','uio','2020')\n",
        "o2.display_info()"
      ],
      "metadata": {
        "colab": {
          "base_uri": "https://localhost:8080/"
        },
        "id": "XxscWSxtC7M7",
        "outputId": "a2434543-f675-4059-d81b-a0c4a121185a"
      },
      "execution_count": null,
      "outputs": [
        {
          "output_type": "stream",
          "name": "stdout",
          "text": [
            "details of 1st book:\n",
            "xyz\n",
            "abc\n",
            "qur\n",
            "2012\n",
            "details of 2nd book:\n",
            "qwe\n",
            "rty\n",
            "uio\n",
            "2020\n"
          ]
        }
      ]
    },
    {
      "cell_type": "code",
      "source": [
        "class Movie_ticket:\n",
        "  def __init__(self,movie_name, show_time, ticket_price,number_of_tickets):\n",
        "    self.movie_name=movie_name\n",
        "    self.show_time=show_time\n",
        "    self.ticket_price=ticket_price\n",
        "    self.number_of_tickets=number_of_tickets\n",
        "  def book_tickets(self,number):\n",
        "    if self.number_of_tickets<number:\n",
        "      print(\"Not Possible\")\n",
        "    else:\n",
        "      print(\"transaction Successfull\")\n",
        "      self.number_of_tickets=self.number_of_tickets-number\n",
        "  def total_cost(self,number):\n",
        "    total_cost=self.ticket_price*number\n",
        "    return total_cost\n",
        "  def movie_info(self):\n",
        "    print(self.movie_name)\n",
        "    print(self.show_time)\n",
        "    print(self.ticket_price)\n",
        "    print(self.number_of_tickets)\n",
        "o1=Movie_ticket('Spiderman','10:00',500,100)\n",
        "o1.movie_info()\n",
        "o1.book_tickets(5)\n",
        "print(\"total cost:\",o1.total_cost(5))"
      ],
      "metadata": {
        "colab": {
          "base_uri": "https://localhost:8080/"
        },
        "id": "Tab3Z8A2F31j",
        "outputId": "520a41b3-2b4e-4436-f5bd-0c6f7f171951"
      },
      "execution_count": null,
      "outputs": [
        {
          "output_type": "stream",
          "name": "stdout",
          "text": [
            "Spiderman\n",
            "10:00\n",
            "500\n",
            "100\n",
            "transaction Successfull\n",
            "total cost: 2500\n"
          ]
        }
      ]
    },
    {
      "cell_type": "code",
      "source": [
        "class Employee:\n",
        "  def __init__(self, name,salary):\n",
        "    self.name=name\n",
        "    self.__salary=salary\n",
        "  def work(self):\n",
        "    print(\"the work is XYZ\")\n",
        "  def show(self):\n",
        "    print(self.name)\n",
        "    print(self.__salary)\n",
        "o1=Employee('abc',1000000)\n",
        "o1.work()\n",
        "o1.show()"
      ],
      "metadata": {
        "colab": {
          "base_uri": "https://localhost:8080/"
        },
        "id": "FoxHRQG4Jka7",
        "outputId": "17f45e1b-4d8a-4cb9-ea79-53e58923f373"
      },
      "execution_count": null,
      "outputs": [
        {
          "output_type": "stream",
          "name": "stdout",
          "text": [
            "the work is XYZ\n",
            "abc\n",
            "1000000\n"
          ]
        }
      ]
    },
    {
      "cell_type": "code",
      "source": [
        "class CreditCard:\n",
        "    def __init__(self, limit,balance):\n",
        "        self.__limit = limit\n",
        "        self._balance = balance\n",
        "\n",
        "    def get_balance(self):\n",
        "        return self._balance\n",
        "\n",
        "    def deposit(self, amount):\n",
        "        self._balance += amount\n",
        "\n",
        "    def withdraw(self, amount):\n",
        "        if amount <= self._balance and amount <= self.__limit:\n",
        "            self._balance=self._balance- amount\n",
        "            return self._balance\n",
        "        else:\n",
        "          print(\"Insufficient balance\")\n",
        "o1=CreditCard(100,10000)\n",
        "print(o1.get_balance())\n",
        "o1.deposit(1000)\n",
        "print(o1.get_balance())\n",
        "\n",
        "print(o1.withdraw(80))"
      ],
      "metadata": {
        "colab": {
          "base_uri": "https://localhost:8080/"
        },
        "id": "3wRdF6nELdXr",
        "outputId": "d5522888-999a-4f34-ffc0-267745fb1237"
      },
      "execution_count": null,
      "outputs": [
        {
          "output_type": "stream",
          "name": "stdout",
          "text": [
            "10000\n",
            "11000\n",
            "10920\n"
          ]
        }
      ]
    },
    {
      "cell_type": "code",
      "source": [
        "class Product:\n",
        "  def __init__(self,product_id, product_name, product_price):\n",
        "    self.product_id=product_id\n",
        "    self.product_name=product_name\n",
        "    self.product_price=product_price\n",
        "  def _expensive(self,threshold):\n",
        "    if self.product_price > threshold:\n",
        "      print(\"Not possible\")\n",
        "    else:\n",
        "      print(\"Buy\")\n",
        "  def apply_discount(self,discout):\n",
        "    final_price=self.product_price-((discout/100)*self.product_price)\n",
        "    self._expensive(1000)\n",
        "    return final_price\n",
        "  def display_product_info(self):\n",
        "    print(self.product_id)\n",
        "    print(self.product_name)\n",
        "    print(self.product_price)\n",
        "o1=Product(1001,'xyz',1000000)\n",
        "print(\"Final price\",o1.apply_discount(20))\n",
        "o1.display_product_info()\n"
      ],
      "metadata": {
        "colab": {
          "base_uri": "https://localhost:8080/"
        },
        "id": "mMJjkHHjPLuj",
        "outputId": "4c4594b6-509e-42bf-8124-b9b141d2cbef"
      },
      "execution_count": null,
      "outputs": [
        {
          "output_type": "stream",
          "name": "stdout",
          "text": [
            "Not possible\n",
            "Final price 800000.0\n",
            "1001\n",
            "xyz\n",
            "1000000\n"
          ]
        }
      ]
    },
    {
      "cell_type": "code",
      "source": [
        "from abc import ABC, abstractmethod\n",
        "class Car(ABC):\n",
        "  def mileage(self):\n",
        "    pass\n",
        "class Tesla(Car):\n",
        "  def mileage(self):\n",
        "    print(\"The mileage is 30kmph\")\n",
        "class Suzuki(Car):\n",
        "  def mileage(self):\n",
        "    print(\"The mileage is 25kmph\")\n",
        "class Duster(Car):\n",
        "  def mileage(self):\n",
        "    print(\"The mileage is 24kmph\")\n",
        "class Renault(Car):\n",
        "  def mileage(self):\n",
        "    print(\"The mileage is 27kmph\")\n",
        "\n",
        "t=Tesla()\n",
        "t.mileage()\n",
        "\n",
        "r=Renault()\n",
        "r.mileage()\n",
        "s=Suzuki()\n",
        "s.mileage()\n",
        "d=Duster()\n",
        "d.mileage()"
      ],
      "metadata": {
        "colab": {
          "base_uri": "https://localhost:8080/"
        },
        "id": "Pm5qsFY2GFOb",
        "outputId": "9b929dda-318b-47c4-dba0-c486dcb684fd"
      },
      "execution_count": 1,
      "outputs": [
        {
          "output_type": "stream",
          "name": "stdout",
          "text": [
            "The mileage is 30kmph\n",
            "The mileage is 27kmph\n",
            "The mileage is 25kmph\n",
            "The mileage is 24kmph\n"
          ]
        }
      ]
    },
    {
      "cell_type": "code",
      "source": [
        "from abc import ABC, abstractmethod\n",
        "import math\n",
        "\n",
        "class Shape(ABC):\n",
        "    @abstractmethod\n",
        "    def area(self):\n",
        "        pass\n",
        "\n",
        "    @abstractmethod\n",
        "    def perimeter(self):\n",
        "        pass\n",
        "\n",
        "class Circle(Shape):\n",
        "    def __init__(self, radius):\n",
        "        self.radius = radius\n",
        "\n",
        "    def area(self):\n",
        "        return math.pi * self.radius**2\n",
        "\n",
        "    def perimeter(self):\n",
        "        return 2 * math.pi * self.radius\n",
        "\n",
        "class Rectangle(Shape):\n",
        "    def __init__(self, length, width):\n",
        "        self.length = length\n",
        "        self.width = width\n",
        "\n",
        "    def area(self):\n",
        "        return self.length * self.width\n",
        "\n",
        "    def perimeter(self):\n",
        "        return 2 * (self.length + self.width)\n",
        "\n",
        "class Triangle(Shape):\n",
        "    def __init__(self, side1, side2, side3):\n",
        "        self.side1 = side1\n",
        "        self.side2 = side2\n",
        "        self.side3 = side3\n",
        "\n",
        "    def area(self):\n",
        "        s = (self.side1 + self.side2 + self.side3) / 2\n",
        "        return math.sqrt(s * (s - self.side1) * (s - self.side2) * (s - self.side3))\n",
        "\n",
        "    def perimeter(self):\n",
        "        return self.side1 + self.side2 + self.side3\n",
        "\n",
        "# Creating instances of shapes\n",
        "circle = Circle(5)\n",
        "rectangle = Rectangle(4, 6)\n",
        "triangle = Triangle(3, 4, 5)\n",
        "\n",
        "# Calculating and displaying results\n",
        "print(f\"Circle - Area: {circle.area()}, Perimeter: {circle.perimeter()}\")\n",
        "print(f\"Rectangle - Area: {rectangle.area()}, Perimeter: {rectangle.perimeter()}\")\n",
        "print(f\"Triangle - Area: {triangle.area()}, Perimeter: {triangle.perimeter()}\")\n"
      ],
      "metadata": {
        "colab": {
          "base_uri": "https://localhost:8080/"
        },
        "id": "p0R2PHziILjz",
        "outputId": "7220f791-4f26-4e0d-a3ea-525db12ae5c9"
      },
      "execution_count": 2,
      "outputs": [
        {
          "output_type": "stream",
          "name": "stdout",
          "text": [
            "Circle - Area: 78.53981633974483, Perimeter: 31.41592653589793\n",
            "Rectangle - Area: 24, Perimeter: 20\n",
            "Triangle - Area: 6.0, Perimeter: 12\n"
          ]
        }
      ]
    },
    {
      "cell_type": "code",
      "source": [
        "from abc import ABC, abstractmethod\n",
        "\n",
        "class LibraryItem(ABC):\n",
        "    def __init__(self, title, author):\n",
        "        self.title = title\n",
        "        self.author = author\n",
        "        self.checked_out = False\n",
        "\n",
        "    @abstractmethod\n",
        "    def display_details(self):\n",
        "        pass\n",
        "\n",
        "    def check_out(self):\n",
        "        if not self.checked_out:\n",
        "            self.checked_out = True\n",
        "            print(f\"{self.title} by {self.author} has been checked out.\")\n",
        "        else:\n",
        "            print(f\"{self.title} by {self.author} is already checked out.\")\n",
        "\n",
        "    def return_item(self):\n",
        "        if self.checked_out:\n",
        "            self.checked_out = False\n",
        "            print(f\"{self.title} by {self.author} has been returned.\")\n",
        "        else:\n",
        "            print(f\"{self.title} by {self.author} is already in the library.\")\n",
        "\n",
        "\n",
        "class Book(LibraryItem):\n",
        "    def __init__(self, title, author, pages):\n",
        "        super().__init__(title, author)\n",
        "        self.pages = pages\n",
        "\n",
        "    def display_details(self):\n",
        "        print(f\"Book Title: {self.title}\")\n",
        "        print(f\"Author: {self.author}\")\n",
        "        print(f\"Pages: {self.pages}\")\n",
        "\n",
        "\n",
        "class DVD(LibraryItem):\n",
        "    def __init__(self, title, director, duration):\n",
        "        super().__init__(title, director)\n",
        "        self.director = director\n",
        "        self.duration = duration\n",
        "\n",
        "    def display_details(self):\n",
        "        print(f\"DVD Title: {self.title}\")\n",
        "        print(f\"Director: {self.director}\")\n",
        "        print(f\"Duration: {self.duration} minutes\")\n",
        "\n",
        "\n",
        "class LibraryMember:\n",
        "    def __init__(self, name, member_id):\n",
        "        self.name = name\n",
        "        self.member_id = member_id\n",
        "        self.checked_out_items = []\n",
        "\n",
        "    def check_out_item(self, item):\n",
        "        if not item.checked_out:\n",
        "            item.check_out()\n",
        "            self.checked_out_items.append(item)\n",
        "        else:\n",
        "            print(\"This item is already checked out.\")\n",
        "\n",
        "    def return_item(self, item):\n",
        "        if item in self.checked_out_items:\n",
        "            item.return_item()\n",
        "            self.checked_out_items.remove(item)\n",
        "        else:\n",
        "            print(\"You haven't checked out this item.\")\n",
        "\n",
        "    def display_checked_out_items(self):\n",
        "        if self.checked_out_items:\n",
        "            print(f\"{self.name}'s Checked Out Items:\")\n",
        "            for item in self.checked_out_items:\n",
        "                print(f\"- {item.title} by {item.author}\")\n",
        "        else:\n",
        "            print(f\"{self.name} hasn't checked out any items.\")\n",
        "\n",
        "\n",
        "# Example Usage:\n",
        "\n",
        "book1 = Book(\"The Hobbit\", \"J.R.R. Tolkien\", 310)\n",
        "dvd1 = DVD(\"Inception\", \"Christopher Nolan\", 148)\n",
        "\n",
        "member1 = LibraryMember(\"Alice\", 101)\n",
        "member2 = LibraryMember(\"Bob\", 102)\n",
        "\n",
        "member1.check_out_item(book1)\n",
        "member2.check_out_item(book1)  # Trying to check out the same book\n",
        "member2.check_out_item(dvd1)\n",
        "\n",
        "member1.display_checked_out_items()\n",
        "member2.display_checked_out_items()\n",
        "\n",
        "member1.return_item(book1)\n",
        "member2.return_item(dvd1)\n",
        "\n",
        "member1.display_checked_out_items()\n",
        "member2.display_checked_out_items()\n",
        "\n"
      ],
      "metadata": {
        "colab": {
          "base_uri": "https://localhost:8080/"
        },
        "id": "B9razctKJ0iT",
        "outputId": "191fe6b8-ecd0-42ee-c411-7d068800a7a5"
      },
      "execution_count": 3,
      "outputs": [
        {
          "output_type": "stream",
          "name": "stdout",
          "text": [
            "The Hobbit by J.R.R. Tolkien has been checked out.\n",
            "This item is already checked out.\n",
            "Inception by Christopher Nolan has been checked out.\n",
            "Alice's Checked Out Items:\n",
            "- The Hobbit by J.R.R. Tolkien\n",
            "Bob's Checked Out Items:\n",
            "- Inception by Christopher Nolan\n",
            "The Hobbit by J.R.R. Tolkien has been returned.\n",
            "Inception by Christopher Nolan has been returned.\n",
            "Alice hasn't checked out any items.\n",
            "Bob hasn't checked out any items.\n"
          ]
        }
      ]
    },
    {
      "cell_type": "code",
      "source": [
        "from abc import ABC, abstractmethod\n",
        "import random\n",
        "\n",
        "class GameObject(ABC):\n",
        "    @abstractmethod\n",
        "    def __init__(self, name, health):\n",
        "        self.name = name\n",
        "        self.health = health\n",
        "\n",
        "    @abstractmethod\n",
        "    def attack(self, target):\n",
        "        pass\n",
        "\n",
        "    @abstractmethod\n",
        "    def show_info(self):\n",
        "        pass\n",
        "\n",
        "class Player(GameObject):\n",
        "    def __init__(self, name, health, weapon):\n",
        "        super().__init__(name, health)\n",
        "        self.weapon = weapon\n",
        "\n",
        "    def attack(self, target):\n",
        "        damage = random.randint(10, 20)\n",
        "        print(f\"{self.name} attacks {target.name} with {self.weapon} and deals {damage} damage.\")\n",
        "        target.health -= damage\n",
        "\n",
        "    def show_info(self):\n",
        "        print(f\"Player: {self.name} | Health: {self.health} | Weapon: {self.weapon}\")\n",
        "\n",
        "class Enemy(GameObject):\n",
        "    def __init__(self, name, health, ability):\n",
        "        super().__init__(name, health)\n",
        "        self.ability = ability\n",
        "\n",
        "    def attack(self, target):\n",
        "        damage = random.randint(5, 15)\n",
        "        print(f\"{self.name} attacks {target.name} using {self.ability} and deals {damage} damage.\")\n",
        "        target.health -= damage\n",
        "\n",
        "    def show_info(self):\n",
        "        print(f\"Enemy: {self.name} | Health: {self.health} | Ability: {self.ability}\")\n",
        "\n",
        "class PowerUp(GameObject):\n",
        "    def __init__(self, name, health_boost):\n",
        "        super().__init__(name, 0)  # PowerUps don't have health\n",
        "        self.health_boost = health_boost\n",
        "\n",
        "    def apply_powerup(self, target):\n",
        "        target.health += self.health_boost\n",
        "        print(f\"{self.name} applied. {target.name} gets a health boost of {self.health_boost}.\")\n",
        "\n",
        "    def show_info(self):\n",
        "        print(f\"PowerUp: {self.name} | Health Boost: {self.health_boost}\")\n",
        "\n",
        "# Game simulation\n",
        "player1 = Player(\"Hero\", 100, \"Sword\")\n",
        "enemy1 = Enemy(\"Villain\", 80, \"Dark Magic\")\n",
        "powerup1 = PowerUp(\"Health+\", 20)\n",
        "\n",
        "player1.show_info()\n",
        "enemy1.show_info()\n",
        "\n",
        "player1.attack(enemy1)\n",
        "enemy1.attack(player1)\n",
        "\n",
        "player1.show_info()\n",
        "enemy1.show_info()\n",
        "\n",
        "powerup1.apply_powerup(player1)\n",
        "player1.show_info()\n"
      ],
      "metadata": {
        "colab": {
          "base_uri": "https://localhost:8080/",
          "height": 245
        },
        "id": "vyVv_29MK6OD",
        "outputId": "b1d4fa11-3e24-4600-bc7f-bde41ccf3df3"
      },
      "execution_count": 7,
      "outputs": [
        {
          "output_type": "error",
          "ename": "TypeError",
          "evalue": "ignored",
          "traceback": [
            "\u001b[0;31m---------------------------------------------------------------------------\u001b[0m",
            "\u001b[0;31mTypeError\u001b[0m                                 Traceback (most recent call last)",
            "\u001b[0;32m<ipython-input-7-d907ec7bb354>\u001b[0m in \u001b[0;36m<cell line: 59>\u001b[0;34m()\u001b[0m\n\u001b[1;32m     57\u001b[0m \u001b[0mplayer1\u001b[0m \u001b[0;34m=\u001b[0m \u001b[0mPlayer\u001b[0m\u001b[0;34m(\u001b[0m\u001b[0;34m\"Hero\"\u001b[0m\u001b[0;34m,\u001b[0m \u001b[0;36m100\u001b[0m\u001b[0;34m,\u001b[0m \u001b[0;34m\"Sword\"\u001b[0m\u001b[0;34m)\u001b[0m\u001b[0;34m\u001b[0m\u001b[0;34m\u001b[0m\u001b[0m\n\u001b[1;32m     58\u001b[0m \u001b[0menemy1\u001b[0m \u001b[0;34m=\u001b[0m \u001b[0mEnemy\u001b[0m\u001b[0;34m(\u001b[0m\u001b[0;34m\"Villain\"\u001b[0m\u001b[0;34m,\u001b[0m \u001b[0;36m80\u001b[0m\u001b[0;34m,\u001b[0m \u001b[0;34m\"Dark Magic\"\u001b[0m\u001b[0;34m)\u001b[0m\u001b[0;34m\u001b[0m\u001b[0;34m\u001b[0m\u001b[0m\n\u001b[0;32m---> 59\u001b[0;31m \u001b[0mpowerup1\u001b[0m \u001b[0;34m=\u001b[0m \u001b[0mPowerUp\u001b[0m\u001b[0;34m(\u001b[0m\u001b[0;34m\"Health+\"\u001b[0m\u001b[0;34m,\u001b[0m \u001b[0;36m20\u001b[0m\u001b[0;34m)\u001b[0m\u001b[0;34m\u001b[0m\u001b[0;34m\u001b[0m\u001b[0m\n\u001b[0m\u001b[1;32m     60\u001b[0m \u001b[0;34m\u001b[0m\u001b[0m\n\u001b[1;32m     61\u001b[0m \u001b[0mplayer1\u001b[0m\u001b[0;34m.\u001b[0m\u001b[0mshow_info\u001b[0m\u001b[0;34m(\u001b[0m\u001b[0;34m)\u001b[0m\u001b[0;34m\u001b[0m\u001b[0;34m\u001b[0m\u001b[0m\n",
            "\u001b[0;31mTypeError\u001b[0m: Can't instantiate abstract class PowerUp with abstract method attack"
          ]
        }
      ]
    },
    {
      "cell_type": "code",
      "source": [
        "from abc import ABC, abstractmethod\n",
        "\n",
        "# Abstract Product class\n",
        "class Product(ABC):\n",
        "    def __init__(self, name, price):\n",
        "        self.name = name\n",
        "        self.price = price\n",
        "\n",
        "    @abstractmethod\n",
        "    def display_info(self):\n",
        "        pass\n",
        "\n",
        "# Derived classes for different product types\n",
        "class ElectronicProduct(Product):\n",
        "    def __init__(self, name, price, warranty_period):\n",
        "        super().__init__(name, price)\n",
        "        self.warranty_period = warranty_period\n",
        "\n",
        "    def display_info(self):\n",
        "        print(f\"{self.name} - ${self.price} (Warranty: {self.warranty_period} months)\")\n",
        "\n",
        "class ClothingProduct(Product):\n",
        "    def __init__(self, name, price, size):\n",
        "        super().__init__(name, price)\n",
        "        self.size = size\n",
        "\n",
        "    def display_info(self):\n",
        "        print(f\"{self.name} - ${self.price} (Size: {self.size})\")\n",
        "\n",
        "# Abstract Cart class\n",
        "class Cart(ABC):\n",
        "    def __init__(self):\n",
        "        self.items = []\n",
        "\n",
        "    @abstractmethod\n",
        "    def add_to_cart(self, product):\n",
        "        pass\n",
        "\n",
        "    @abstractmethod\n",
        "    def remove_from_cart(self, product):\n",
        "        pass\n",
        "\n",
        "    @abstractmethod\n",
        "    def view_cart(self):\n",
        "        pass\n",
        "\n",
        "# Derived class for a basic shopping cart\n",
        "class ShoppingCart(Cart):\n",
        "    def add_to_cart(self, product):\n",
        "        self.items.append(product)\n",
        "        print(f\"{product.name} added to the cart.\")\n",
        "\n",
        "    def remove_from_cart(self, product):\n",
        "        if product in self.items:\n",
        "            self.items.remove(product)\n",
        "            print(f\"{product.name} removed from the cart.\")\n",
        "        else:\n",
        "            print(f\"{product.name} not found in the cart.\")\n",
        "\n",
        "    def view_cart(self):\n",
        "        print(\"Shopping Cart:\")\n",
        "        total_price = 0\n",
        "        for item in self.items:\n",
        "            item.display_info()\n",
        "            total_price += item.price\n",
        "        print(f\"Total Price: ${total_price}\")\n",
        "\n",
        "# Example usage\n",
        "if __name__ == \"__main__\":\n",
        "    laptop = ElectronicProduct(\"Laptop\", 1200, 12)\n",
        "    t_shirt = ClothingProduct(\"T-Shirt\", 20, \"M\")\n",
        "\n",
        "    cart = ShoppingCart()\n",
        "    cart.add_to_cart(laptop)\n",
        "    cart.add_to_cart(t_shirt)\n",
        "\n",
        "    cart.view_cart()\n",
        "\n",
        "    cart.remove_from_cart(laptop)\n",
        "    cart.view_cart()\n",
        "\n"
      ],
      "metadata": {
        "colab": {
          "base_uri": "https://localhost:8080/"
        },
        "id": "GzjdQ2MxLjYE",
        "outputId": "51b3a53f-be7c-405d-b07f-3b87eaa55c77"
      },
      "execution_count": 8,
      "outputs": [
        {
          "output_type": "stream",
          "name": "stdout",
          "text": [
            "Laptop added to the cart.\n",
            "T-Shirt added to the cart.\n",
            "Shopping Cart:\n",
            "Laptop - $1200 (Warranty: 12 months)\n",
            "T-Shirt - $20 (Size: M)\n",
            "Total Price: $1220\n",
            "Laptop removed from the cart.\n",
            "Shopping Cart:\n",
            "T-Shirt - $20 (Size: M)\n",
            "Total Price: $20\n"
          ]
        }
      ]
    },
    {
      "cell_type": "code",
      "source": [
        "from abc import ABC, abstractmethod\n",
        "\n",
        "class UserProfile(ABC):\n",
        "    def __init__(self, username, email):\n",
        "        self._username = username\n",
        "        self._email = email\n",
        "        self._posts = []\n",
        "\n",
        "    @abstractmethod\n",
        "    def post(self, content):\n",
        "        pass\n",
        "\n",
        "    @abstractmethod\n",
        "    def comment(self, post_id, comment):\n",
        "        pass\n",
        "\n",
        "    @abstractmethod\n",
        "    def like(self, post_id):\n",
        "        pass\n",
        "\n",
        "class RegularUser(UserProfile):\n",
        "    def post(self, content):\n",
        "        self._posts.append(content)\n",
        "        print(f\"Regular User {self._username} posted: {content}\")\n",
        "\n",
        "    def comment(self, post_id, comment):\n",
        "        if post_id < len(self._posts):\n",
        "            print(f\"Regular User {self._username} commented on post {post_id}: {comment}\")\n",
        "        else:\n",
        "            print(\"Invalid post ID\")\n",
        "\n",
        "    def like(self, post_id):\n",
        "        if post_id < len(self._posts):\n",
        "            print(f\"Regular User {self._username} liked post {post_id}\")\n",
        "        else:\n",
        "            print(\"Invalid post ID\")\n",
        "\n",
        "class Admin(UserProfile):\n",
        "    def post(self, content):\n",
        "        self._posts.append(content)\n",
        "        print(f\"Admin {self._username} posted: {content}\")\n",
        "\n",
        "    def comment(self, post_id, comment):\n",
        "        if post_id < len(self._posts):\n",
        "            print(f\"Admin {self._username} commented on post {post_id}: {comment}\")\n",
        "        else:\n",
        "            print(\"Invalid post ID\")\n",
        "\n",
        "    def like(self, post_id):\n",
        "        if post_id < len(self._posts):\n",
        "            print(f\"Admin {self._username} liked post {post_id}\")\n",
        "        else:\n",
        "            print(\"Invalid post ID\")\n",
        "\n",
        "# Example usage:\n",
        "\n",
        "regular_user = RegularUser(\"Alice\", \"alice@example.com\")\n",
        "admin_user = Admin(\"Admin1\", \"admin@example.com\")\n",
        "\n",
        "regular_user.post(\"Hello, this is my first post!\")\n",
        "admin_user.post(\"Welcome to our new platform!\")\n",
        "\n",
        "regular_user.comment(0, \"Nice post!\")\n",
        "admin_user.comment(1, \"Great to have you here.\")\n",
        "\n",
        "regular_user.like(1)\n",
        "admin_user.like(0)\n"
      ],
      "metadata": {
        "colab": {
          "base_uri": "https://localhost:8080/"
        },
        "id": "aDssPNwoLx3L",
        "outputId": "11411b02-eb42-48e3-9edf-e0189cea99fb"
      },
      "execution_count": 9,
      "outputs": [
        {
          "output_type": "stream",
          "name": "stdout",
          "text": [
            "Regular User Alice posted: Hello, this is my first post!\n",
            "Admin Admin1 posted: Welcome to our new platform!\n",
            "Regular User Alice commented on post 0: Nice post!\n",
            "Invalid post ID\n",
            "Invalid post ID\n",
            "Admin Admin1 liked post 0\n"
          ]
        }
      ]
    },
    {
      "cell_type": "code",
      "source": [
        "from abc import ABC, abstractmethod\n",
        "\n",
        "# Abstract Investment class\n",
        "class Investment(ABC):\n",
        "    def __init__(self, symbol, quantity, price_per_unit):\n",
        "        self.symbol = symbol\n",
        "        self.quantity = quantity\n",
        "        self.price_per_unit = price_per_unit\n",
        "\n",
        "    @abstractmethod\n",
        "    def calculate_value(self):\n",
        "        pass\n",
        "\n",
        "# Derived classes for various types of investments\n",
        "class Stock(Investment):\n",
        "    def calculate_value(self):\n",
        "        return self.quantity * self.price_per_unit\n",
        "\n",
        "class Bond(Investment):\n",
        "    def calculate_value(self):\n",
        "        return self.quantity * self.price_per_unit\n",
        "\n",
        "class RealEstate(Investment):\n",
        "    def __init__(self, address, quantity, price_per_unit):\n",
        "        super().__init__(\"Real Estate\", quantity, price_per_unit)\n",
        "        self.address = address\n",
        "\n",
        "    def calculate_value(self):\n",
        "        return self.quantity * self.price_per_unit\n",
        "\n",
        "# Abstract Portfolio class\n",
        "class Portfolio(ABC):\n",
        "    def __init__(self):\n",
        "        self.investments = []\n",
        "\n",
        "    @abstractmethod\n",
        "    def add_investment(self, investment):\n",
        "        pass\n",
        "\n",
        "    @abstractmethod\n",
        "    def calculate_portfolio_value(self):\n",
        "        pass\n",
        "\n",
        "# Derived class for a financial portfolio\n",
        "class FinancialPortfolio(Portfolio):\n",
        "    def add_investment(self, investment):\n",
        "        self.investments.append(investment)\n",
        "\n",
        "    def calculate_portfolio_value(self):\n",
        "        total_value = 0\n",
        "        for investment in self.investments:\n",
        "            total_value += investment.calculate_value()\n",
        "        return total_value\n",
        "\n",
        "# Example usage\n",
        "if __name__ == \"__main__\":\n",
        "    stock1 = Stock(\"AAPL\", 10, 150)\n",
        "    bond1 = Bond(\"US Treasury Bond\", 5, 1000)\n",
        "    real_estate1 = RealEstate(\"123 Main St\", 2, 500000)\n",
        "\n",
        "    portfolio = FinancialPortfolio()\n",
        "    portfolio.add_investment(stock1)\n",
        "    portfolio.add_investment(bond1)\n",
        "    portfolio.add_investment(real_estate1)\n",
        "\n",
        "    total_portfolio_value = portfolio.calculate_portfolio_value()\n",
        "\n",
        "    print(f\"Total Portfolio Value: ${total_portfolio_value}\")"
      ],
      "metadata": {
        "colab": {
          "base_uri": "https://localhost:8080/"
        },
        "id": "vbxpQU2xL9zL",
        "outputId": "c0ef539e-a196-4310-fff7-6439e95a3809"
      },
      "execution_count": 10,
      "outputs": [
        {
          "output_type": "stream",
          "name": "stdout",
          "text": [
            "Total Portfolio Value: $1006500\n"
          ]
        }
      ]
    },
    {
      "cell_type": "code",
      "source": [
        "from abc import ABC, abstractmethod\n",
        "\n",
        "class Product(ABC):\n",
        "    def __init__(self, name, price, quantity):\n",
        "        self.name = name\n",
        "        self.price = price\n",
        "        self.quantity = quantity\n",
        "\n",
        "    @abstractmethod\n",
        "    def display_info(self):\n",
        "        pass\n",
        "\n",
        "class Electronics(Product):\n",
        "    def __init__(self, name, price, quantity, brand):\n",
        "        super().__init__(name, price, quantity)\n",
        "        self.brand = brand\n",
        "\n",
        "    def display_info(self):\n",
        "        print(f\"Electronics: {self.name} | Brand: {self.brand} | Price: ${self.price} | Quantity: {self.quantity}\")\n",
        "\n",
        "class Clothing(Product):\n",
        "    def __init__(self, name, price, quantity, size):\n",
        "        super().__init__(name, price, quantity)\n",
        "        self.size = size\n",
        "\n",
        "    def display_info(self):\n",
        "        print(f\"Clothing: {self.name} | Size: {self.size} | Price: ${self.price} | Quantity: {self.quantity}\")\n",
        "\n",
        "class Store(ABC):\n",
        "    def __init__(self):\n",
        "        self.products = []\n",
        "\n",
        "    def add_product(self, product):\n",
        "        self.products.append(product)\n",
        "        print(f\"Added {product.name} to the store inventory.\")\n",
        "\n",
        "    def display_inventory(self):\n",
        "        print(\"Store Inventory:\")\n",
        "        for product in self.products:\n",
        "            product.display_info()\n",
        "\n",
        "# Example Usage:\n",
        "\n",
        "store = Store()\n",
        "\n",
        "tv = Electronics(\"TV\", 500, 10, \"Samsung\")\n",
        "shirt = Clothing(\"T-Shirt\", 20, 50, \"M\")\n",
        "\n",
        "store.add_product(tv)\n",
        "store.add_product(shirt)\n",
        "\n",
        "store.display_inventory()\n"
      ],
      "metadata": {
        "colab": {
          "base_uri": "https://localhost:8080/"
        },
        "id": "Ek15Yxd1MPRK",
        "outputId": "88996e20-28e4-47c7-ce56-3ac810cba522"
      },
      "execution_count": 11,
      "outputs": [
        {
          "output_type": "stream",
          "name": "stdout",
          "text": [
            "Added TV to the store inventory.\n",
            "Added T-Shirt to the store inventory.\n",
            "Store Inventory:\n",
            "Electronics: TV | Brand: Samsung | Price: $500 | Quantity: 10\n",
            "Clothing: T-Shirt | Size: M | Price: $20 | Quantity: 50\n"
          ]
        }
      ]
    }
  ]
}