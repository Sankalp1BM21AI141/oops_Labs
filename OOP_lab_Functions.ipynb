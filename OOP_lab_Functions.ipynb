{
  "nbformat": 4,
  "nbformat_minor": 0,
  "metadata": {
    "colab": {
      "provenance": [],
      "include_colab_link": true
    },
    "kernelspec": {
      "name": "python3",
      "display_name": "Python 3"
    },
    "language_info": {
      "name": "python"
    }
  },
  "cells": [
    {
      "cell_type": "markdown",
      "metadata": {
        "id": "view-in-github",
        "colab_type": "text"
      },
      "source": [
        "<a href=\"https://colab.research.google.com/github/Sankalp1BM21AI141/oops_classes/blob/main/OOP_lab_Functions.ipynb\" target=\"_parent\"><img src=\"https://colab.research.google.com/assets/colab-badge.svg\" alt=\"Open In Colab\"/></a>"
      ]
    },
    {
      "cell_type": "code",
      "execution_count": null,
      "metadata": {
        "colab": {
          "base_uri": "https://localhost:8080/"
        },
        "id": "AK5Egmfj7E3F",
        "outputId": "7690f5b4-7cd4-4b31-dfc5-ba297e426d6f"
      },
      "outputs": [
        {
          "output_type": "stream",
          "name": "stdout",
          "text": [
            "The largest element is: 10\n"
          ]
        }
      ],
      "source": [
        "def findmax(list):\n",
        "  return max(list)\n",
        "my_list = [3, 7, 2, 10, 5]\n",
        "largest = findmax(my_list)\n",
        "print(\"The largest element is:\", largest)"
      ]
    },
    {
      "cell_type": "code",
      "source": [
        "import math\n",
        "\n",
        "def hexagon_area(length):\n",
        "    return (3 * math.sqrt(3) * (length ** 2)) / 2\n",
        "\n",
        "side = 5\n",
        "area = hexagon_area(side)\n",
        "print(\"The area of the hexagon is:\", area)\n"
      ],
      "metadata": {
        "colab": {
          "base_uri": "https://localhost:8080/"
        },
        "id": "IJV66zytBCNa",
        "outputId": "83f18c0f-b960-4161-fd10-989b40a12497"
      },
      "execution_count": null,
      "outputs": [
        {
          "output_type": "stream",
          "name": "stdout",
          "text": [
            "The area of the hexagon is: 64.9519052838329\n"
          ]
        }
      ]
    },
    {
      "cell_type": "code",
      "source": [
        "import re\n",
        "\n",
        "def is_valid_email(email):\n",
        "    pattern = r\"^[a-zA-Z0-9][a-zA-Z0-9._%+-]{0,64}@[a-zA-Z0-9.-]+\\.[a-zA-Z]{2,}$\"\n",
        "    return True if re.match(pattern, email) and len(email) <= 256 else False\n",
        "\n",
        "# Example usage:\n",
        "email_address = \"example@email.com\"\n",
        "validity = is_valid_email(email_address)\n",
        "print(\"Is the email address valid?\", validity)\n"
      ],
      "metadata": {
        "colab": {
          "base_uri": "https://localhost:8080/"
        },
        "id": "-Tttz0sZEwHo",
        "outputId": "28639688-a68a-4760-98c1-0e6351a41851"
      },
      "execution_count": null,
      "outputs": [
        {
          "output_type": "stream",
          "name": "stdout",
          "text": [
            "Is the email address valid? True\n"
          ]
        }
      ]
    },
    {
      "cell_type": "code",
      "source": [
        "def get_palindromes(s):\n",
        "    words = s.split()\n",
        "    palindromes = [word for word in words if word.lower() == word[::-1].lower()]\n",
        "    return palindromes\n",
        "\n",
        "# Example usage:\n",
        "sentence = \"Madam and racecar are palindromes\"\n",
        "palindrome_list = get_palindromes(sentence)\n",
        "print(\"Palindromes in the sentence:\", palindrome_list)\n"
      ],
      "metadata": {
        "id": "6l7fut2hGzLI",
        "outputId": "6288b3b5-f31c-4c8c-bdc1-ac7507474841",
        "colab": {
          "base_uri": "https://localhost:8080/"
        }
      },
      "execution_count": null,
      "outputs": [
        {
          "output_type": "stream",
          "name": "stdout",
          "text": [
            "Palindromes in the sentence: ['Madam', 'racecar']\n"
          ]
        }
      ]
    },
    {
      "cell_type": "code",
      "source": [
        "def encrypt(text, shift):\n",
        "    encrypted_text = \"\"\n",
        "    for char in text:\n",
        "        if char.isalpha():\n",
        "            shifted = ord(char) + shift\n",
        "            if char.islower():\n",
        "                if shifted > ord('z'):\n",
        "                    shifted -= 26\n",
        "                elif shifted < ord('a'):\n",
        "                    shifted += 26\n",
        "            elif char.isupper():\n",
        "                if shifted > ord('Z'):\n",
        "                    shifted -= 26\n",
        "                elif shifted < ord('A'):\n",
        "                    shifted += 26\n",
        "            encrypted_text += chr(shifted)\n",
        "        else:\n",
        "            encrypted_text += char\n",
        "    return encrypted_text\n",
        "\n",
        "def decrypt(encrypted_text, shift):\n",
        "    return encrypt(encrypted_text, -shift)\n",
        "\n",
        "text = \"Hello, World!\"\n",
        "shift_amount = 5\n",
        "encrypted = encrypt(text, shift_amount)\n",
        "print(\"Encrypted:\", encrypted)\n",
        "decrypted = decrypt(encrypted, shift_amount)\n",
        "print(\"Decrypted:\", decrypted)\n"
      ],
      "metadata": {
        "colab": {
          "base_uri": "https://localhost:8080/"
        },
        "id": "ZAb7hFDQMCLV",
        "outputId": "63f0e599-c5ac-46ca-8c56-b6aebcf496a2"
      },
      "execution_count": null,
      "outputs": [
        {
          "output_type": "stream",
          "name": "stdout",
          "text": [
            "Encrypted: Mjqqt, Btwqi!\n",
            "Decrypted: Hello, World!\n"
          ]
        }
      ]
    }
  ]
}