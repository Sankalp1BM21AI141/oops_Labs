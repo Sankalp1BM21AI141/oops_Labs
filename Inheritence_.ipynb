{
  "nbformat": 4,
  "nbformat_minor": 0,
  "metadata": {
    "colab": {
      "provenance": [],
      "authorship_tag": "ABX9TyMtij+GhJsL2ZudKUxoW9mE",
      "include_colab_link": true
    },
    "kernelspec": {
      "name": "python3",
      "display_name": "Python 3"
    },
    "language_info": {
      "name": "python"
    }
  },
  "cells": [
    {
      "cell_type": "markdown",
      "metadata": {
        "id": "view-in-github",
        "colab_type": "text"
      },
      "source": [
        "<a href=\"https://colab.research.google.com/github/Sankalp1BM21AI141/oops_Labs/blob/main/Inheritence_.ipynb\" target=\"_parent\"><img src=\"https://colab.research.google.com/assets/colab-badge.svg\" alt=\"Open In Colab\"/></a>"
      ]
    },
    {
      "cell_type": "code",
      "execution_count": 1,
      "metadata": {
        "colab": {
          "base_uri": "https://localhost:8080/"
        },
        "id": "CPeEsWU8wsnV",
        "outputId": "e959d5d6-fd67-4877-b63b-1d86a7ba6b6c"
      },
      "outputs": [
        {
          "name": "stdout",
          "output_type": "stream",
          "text": [
            "Enter a formula (or \"quit\" to exit): 5*6\n",
            "Invalid formula\n",
            "Enter a formula (or \"quit\" to exit): 5+6\n",
            "Invalid formula\n",
            "Enter a formula (or \"quit\" to exit): 5 * 6\n",
            "Invalid operator\n",
            "Enter a formula (or \"quit\" to exit): 5 + 6\n",
            "The result is 11.0\n",
            "Enter a formula (or \"quit\" to exit): quit\n"
          ]
        }
      ],
      "source": [
        "class FormulaError(Exception):\n",
        "    pass\n",
        "\n",
        "while True:\n",
        "    try:\n",
        "        formula = input('Enter a formula (or \"quit\" to exit): ')\n",
        "        if formula == 'quit':\n",
        "            break\n",
        "        parts = formula.split()\n",
        "        if len(parts) != 3:\n",
        "            raise FormulaError('Invalid formula')\n",
        "        a = float(parts[0])\n",
        "        b = float(parts[2])\n",
        "        if parts[1] == '+':\n",
        "            result = a + b\n",
        "        elif parts[1] == '-':\n",
        "            result = a - b\n",
        "        else:\n",
        "            raise FormulaError('Invalid operator')\n",
        "        print(f'The result is {result}')\n",
        "    except FormulaError as e:\n",
        "        print(e)"
      ]
    },
    {
      "cell_type": "code",
      "source": [
        "class Father:\n",
        "    def __init__(self, age):\n",
        "        if age < 0:\n",
        "            raise WrongAge(\"Age cannot be negative\")\n",
        "        self.age = age\n",
        "\n",
        "class Son(Father):\n",
        "    def __init__(self, father_age, son_age):\n",
        "        super().__init__(father_age)\n",
        "        if son_age >= father_age:\n",
        "            raise AgeInvalid(\"Son's age cannot be greater than or equal to father's age\")\n",
        "        self.age = son_age\n",
        "\n",
        "class WrongAge(Exception):\n",
        "    def __init__(self, message):\n",
        "        self.message = message\n",
        "\n",
        "try:\n",
        "    father = Father(-10)\n",
        "except WrongAge as e:\n",
        "    print(e)\n",
        "\n",
        "try:\n",
        "    son = Son(30, 25)\n",
        "except AgeInvalid as e:\n",
        "    print(e)"
      ],
      "metadata": {
        "colab": {
          "base_uri": "https://localhost:8080/"
        },
        "id": "j9HvfPJUxHUv",
        "outputId": "c5fb74c6-9ea4-42d4-9490-e917aec35800"
      },
      "execution_count": 4,
      "outputs": [
        {
          "output_type": "stream",
          "name": "stdout",
          "text": [
            "Age cannot be negative\n"
          ]
        }
      ]
    },
    {
      "cell_type": "code",
      "source": [
        "class Person():\n",
        "  def __init__(self, name, age):\n",
        "    self.name = name\n",
        "    self.age = age\n",
        "\n",
        "  def get_name(self):\n",
        "    return self.name\n",
        "\n",
        "  def get_age(self):\n",
        "    return self.age\n",
        "\n",
        "class Company():\n",
        "  def __init__(self, name, address):\n",
        "    self.name = name\n",
        "    self.address = address\n",
        "\n",
        "  def get_name(self):\n",
        "    return self.name\n",
        "\n",
        "  def get_address(self):\n",
        "    return self.address\n",
        "\n",
        "class Employee(Person, Company):\n",
        "  def __init__(self, name, age, company_name, company_address):\n",
        "    super().__init__(name, age)\n",
        "    self.company_name = company_name\n",
        "    self.company_address = company_address\n",
        "\n",
        "  def get_company_name(self):\n",
        "    return self.company_name\n",
        "\n",
        "  def get_company_address(self):\n",
        "    return self.company_address\n",
        "\n",
        "class Vehicle():\n",
        "  def __init__(self, make, model):\n",
        "    self.make = make\n",
        "    self.model = model\n",
        "\n",
        "  def get_make(self):\n",
        "    return self.make\n",
        "\n",
        "  def get_model(self):\n",
        "    return self.model\n",
        "\n",
        "class Car(Vehicle):\n",
        "  def __init__(self, make, model, num_wheels):\n",
        "    super().__init__(make, model)\n",
        "    self.num_wheels = num_wheels\n",
        "\n",
        "  def get_num_wheels(self):\n",
        "    return self.num_wheels\n",
        "\n",
        "class SportsCar(Car):\n",
        "  def __init__(self, make, model, num_wheels, top_speed):\n",
        "    super().__init__(make, model, num_wheels)\n",
        "    self.top_speed = top_speed\n",
        "\n",
        "  def get_top_speed(self):\n",
        "    return self.top_speed\n",
        "\n",
        "# Create instances of the classes\n",
        "person = Person(\"Smith Benjamin\", 30)\n",
        "company = Company(\"Acme Corporation\", \"123 Main Street\")\n",
        "employee = Employee(\"Jane Doe\", 25, \"Acme Corporation\", \"123 Main Street\")\n",
        "vehicle = Vehicle(\"Toyota\", \"Camry\")\n",
        "car = Car(\"Honda\", \"Civic\", 4)\n",
        "sports_car = SportsCar(\"Porsche\", \"911\", 2, 200)\n",
        "\n",
        "# Print the details of each instance\n",
        "print(\"Person:\", person.get_name(), person.get_age())\n",
        "print(\"Company:\", company.get_name(), company.get_address())\n",
        "print(\"Employee:\", employee.get_name(), employee.get_age(), employee.get_company_name(), employee.get_company_address())\n",
        "print(\"Vehicle:\", vehicle.get_make(), vehicle.get_model())\n",
        "print(\"Car:\", car.get_make(), car.get_model(), car.get_num_wheels())\n",
        "print(\"SportsCar:\", sports_car.get_make(), sports_car.get_model(), sports_car.get_num_wheels(), sports_car.get_top_speed())"
      ],
      "metadata": {
        "colab": {
          "base_uri": "https://localhost:8080/"
        },
        "id": "z5pUSjblxYma",
        "outputId": "88821081-429f-496f-f112-e64f9a9d8faa"
      },
      "execution_count": 5,
      "outputs": [
        {
          "output_type": "stream",
          "name": "stdout",
          "text": [
            "Person: Smith Benjamin 30\n",
            "Company: Acme Corporation 123 Main Street\n",
            "Employee: Jane Doe 25 Acme Corporation 123 Main Street\n",
            "Vehicle: Toyota Camry\n",
            "Car: Honda Civic 4\n",
            "SportsCar: Porsche 911 2 200\n"
          ]
        }
      ]
    }
  ]
}